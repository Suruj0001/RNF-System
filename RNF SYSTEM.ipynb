{
 "cells": [
  {
   "cell_type": "code",
   "execution_count": 2,
   "id": "198811be",
   "metadata": {},
   "outputs": [],
   "source": [
    "import cv2"
   ]
  },
  {
   "cell_type": "code",
   "execution_count": 2,
   "id": "4a123572",
   "metadata": {},
   "outputs": [],
   "source": [
    "camera = \"http://192.168.25.84:8080//video\"  # /video is neccesory"
   ]
  },
  {
   "cell_type": "code",
   "execution_count": 3,
   "id": "a9c2c309",
   "metadata": {},
   "outputs": [],
   "source": [
    "cap = cv2.VideoCapture(0)"
   ]
  },
  {
   "cell_type": "code",
   "execution_count": 4,
   "id": "34d6572c",
   "metadata": {},
   "outputs": [
    {
     "data": {
      "text/plain": [
       "True"
      ]
     },
     "execution_count": 4,
     "metadata": {},
     "output_type": "execute_result"
    }
   ],
   "source": [
    "cap.open(camera)"
   ]
  },
  {
   "cell_type": "code",
   "execution_count": 5,
   "id": "df348a50",
   "metadata": {},
   "outputs": [
    {
     "name": "stdout",
     "output_type": "stream",
     "text": [
      "check=== True\n"
     ]
    }
   ],
   "source": [
    "print(\"check===\" , cap.isOpened())"
   ]
  },
  {
   "cell_type": "code",
   "execution_count": 6,
   "id": "4105d6fa",
   "metadata": {},
   "outputs": [],
   "source": [
    "fourcc = cv2.VideoWriter_fourcc(*\"XVID\")"
   ]
  },
  {
   "cell_type": "code",
   "execution_count": 7,
   "id": "cd51386f",
   "metadata": {},
   "outputs": [],
   "source": [
    "output = cv2.VideoWriter(r\"C:\\Users\\suruj\\PYTHON-IMAGE-PROCESSING\\RNF (read n fetch) API\\VIDEOS\\test2.avi\" , fourcc , 20.0 , (1920 , 1080))"
   ]
  },
  {
   "cell_type": "code",
   "execution_count": 8,
   "id": "0e087c23",
   "metadata": {},
   "outputs": [],
   "source": [
    "while(cap.isOpened()):\n",
    "    ret , frame = cap.read()\n",
    "    if ret == True:\n",
    "        #frame = cv2.resize(frame , (1920 , 1080)) # for camera use frame size of high resolution (1920 , 1080)\n",
    "        cv2.imshow(\"color-frame\", frame)\n",
    "        output.write(frame)\n",
    "        if cv2.waitKey(1) == ord(\"q\"):\n",
    "            break\n",
    "            \n",
    "cap.release()\n",
    "output.release()\n",
    "cv2.destroyAllWindows()"
   ]
  },
  {
   "cell_type": "code",
   "execution_count": null,
   "id": "770841db",
   "metadata": {},
   "outputs": [],
   "source": [
    "# below is the software system . "
   ]
  },
  {
   "cell_type": "code",
   "execution_count": 3,
   "id": "dbc90ccc",
   "metadata": {},
   "outputs": [],
   "source": [
    "vidcap = cv2.VideoCapture()  # put o if you want to access system camera for reading the videos\n",
    "ret,image = vidcap.read() #read the video\n",
    "\n",
    "count = 0 # COUNTER\n",
    "while True:\n",
    "    if ret == True:\n",
    "        #cv2.imwrite(r\" ---- \\imgN%d.jpg\"%count,image)\n",
    "        cv2.imwrite(r\"C:\\Users\\suruj\\PYTHON-IMAGE-PROCESSING\\RNF (read n fetch) API\\FRAME1\\imgN%d.jpg\"%count,image)\n",
    "        vidcap.set(cv2.CAP_PROP_POS_MSEC,(count**100)) #SETTING THE SPEED\n",
    "        ret,image = vidcap.read()\n",
    "        cv2.imshow(\"frame\",image)\n",
    "        #print(count)\n",
    "        count +=1\n",
    "        if cv2.waitKey(1) == ord(\"q\"):\n",
    "            break\n",
    "            cv2.destroyAllWindows()\n",
    "            \n",
    "vidcap.release()\n",
    "cv2.destroyAllWindows()\n"
   ]
  },
  {
   "cell_type": "code",
   "execution_count": null,
   "id": "03f0e00d",
   "metadata": {},
   "outputs": [],
   "source": [
    "My Project is Ready -- frame reader algorithm, can work on any system condition should be to keep the camera constant \n",
    "and if there is no good additional camera then use the system camera to fetch the data . "
   ]
  },
  {
   "cell_type": "code",
   "execution_count": null,
   "id": "33575a82",
   "metadata": {},
   "outputs": [],
   "source": [
    "# C:\\Users\\suruj\\PYTHON-IMAGE-PROCESSING\\RNF (read n fetch) API\\VIDEOS\\first-footage-testing.avi"
   ]
  }
 ],
 "metadata": {
  "kernelspec": {
   "display_name": "Python 3.10.8 64-bit",
   "language": "python",
   "name": "python3"
  },
  "language_info": {
   "codemirror_mode": {
    "name": "ipython",
    "version": 3
   },
   "file_extension": ".py",
   "mimetype": "text/x-python",
   "name": "python",
   "nbconvert_exporter": "python",
   "pygments_lexer": "ipython3",
   "version": "3.10.8"
  },
  "vscode": {
   "interpreter": {
    "hash": "0b04c95545ab332a2fe9cf5995c66f301512b2ab364aaeb0128f85a1414c1657"
   }
  }
 },
 "nbformat": 4,
 "nbformat_minor": 5
}
